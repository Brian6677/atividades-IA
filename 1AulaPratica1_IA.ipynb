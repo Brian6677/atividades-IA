{
  "cells": [
    {
      "cell_type": "markdown",
      "metadata": {
        "id": "8dLmid2d149R"
      },
      "source": [
        "Brian Campos bueno Rodrigues\n",
        "Gabriel Oliveira Alves"
      ]
    },
    {
      "cell_type": "markdown",
      "metadata": {
        "id": "xwI0-swgCZtI"
      },
      "source": [
        "Primeiro modelo GAN de IA. É utilizado para aprendizado de máquina para gerar novos dados semelhantes a um conjunto de dados de treinamento."
      ]
    },
    {
      "cell_type": "code",
      "execution_count": null,
      "metadata": {
        "id": "CUX-bjq6x9bD"
      },
      "outputs": [],
      "source": [
        "#importando as bibliotecas que vou usar\n",
        "import tensorflow as tf\n",
        "from tensorflow.keras import layers\n",
        "\n",
        "#função para criar o gerador\n",
        "def build_generator(latent_dim, output_shape):\n",
        "  model = tf.keras.Sequential()\n",
        "  model.add(layers.Dense(256, input_dim=latent_dim, activation='relu'))\n",
        "  model.add(layers.BatchNormalization())\n",
        "  model.add(layers.Dense(512, activation='relu'))\n",
        "  model.add(layers.BatchNormalization())\n",
        "  model.add(layers.Dense(1024, activation='relu'))\n",
        "  model.add(layers.BatchNormalization())\n",
        "  model.add(layers.Dense(output_shape, activation='tanh'))\n",
        "  return model\n",
        "\n",
        "#função para criar o discriminador\n",
        "def build_discriminator(input_shape):\n",
        "  model = tf.keras.Sequential()\n",
        "  model.add(layers.Dense(1024, input_shape=(input_shape,), activation='relu'))\n",
        "  model.add(layers.Dropout(0.3))\n",
        "  model.add(layers.Dense(512, activation='relu'))\n",
        "  model.add(layers.Dropout(0.3))\n",
        "  model.add(layers.Dense(256, activation='relu'))\n",
        "  model.add(layers.Dropout(0.3))\n",
        "  model.add(layers.Dense(1, activation='sigmoid'))\n",
        "  return model\n",
        "\n",
        "#função modelo gan\n",
        "def build_gan(generator, discriminator):\n",
        "  discriminator.trainable = False\n",
        "  model = tf.keras.Sequential()\n",
        "  model.add(generator)\n",
        "  model.add(discriminator)\n",
        "  return model\n",
        "\n",
        "#dimenções\n",
        "latent_dim = 100\n",
        "output_shape = 784\n",
        "\n",
        "#criando as instâncias\n",
        "generator = build_generator(latent_dim, output_shape)\n",
        "discriminator = build_discriminator(output_shape)\n",
        "gan = build_gan(generator, discriminator)\n",
        "\n",
        "#compilações\n",
        "generator.compile(loss='binary_crossentropy', optimizer='adam')\n",
        "discriminator.compile(loss='binary_crossentropy', optimizer='adam', metrics=['accuracy'])\n",
        "gan.compile(loss='binary_crossentropy', optimizer='adam')\n",
        "\n",
        "x=generator(input())"
      ]
    },
    {
      "cell_type": "markdown",
      "metadata": {
        "id": "h0bhL8fXDeBf"
      },
      "source": [
        "Este código uma vez treinado pode gerar novos dados que parecem pertercer ao mesmo conjunto de dados que foi usado para treinamento, como imagens que se assemelham a digitos manuscritos (por exemplo, MNIST)."
      ]
    }
  ],
  "metadata": {
    "colab": {
      "provenance": []
    },
    "kernelspec": {
      "display_name": "Python 3",
      "name": "python3"
    },
    "language_info": {
      "name": "python"
    }
  },
  "nbformat": 4,
  "nbformat_minor": 0
}
